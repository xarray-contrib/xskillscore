{
 "cells": [
  {
   "cell_type": "markdown",
   "metadata": {},
   "source": [
    "# Quick Start\n",
    "\n",
    "See the API for more detailed information, examples, formulas, and references for each function."
   ]
  },
  {
   "cell_type": "code",
   "execution_count": 2,
   "metadata": {},
   "outputs": [],
   "source": [
    "import numpy as np\n",
    "import xarray as xr\n",
    "import xskillscore as xs"
   ]
  },
  {
   "cell_type": "markdown",
   "metadata": {},
   "source": [
    "Here, we generate some sample gridded data. Our data has three time steps, and a 4x5 latitude/longitude grid. `obs` replicates some verification data and `fct` some forecast (e.g. from a statistical or dynamical model)."
   ]
  },
  {
   "cell_type": "code",
   "execution_count": 3,
   "metadata": {},
   "outputs": [],
   "source": [
    "obs = xr.DataArray(\n",
    "       np.random.rand(3, 4, 5),\n",
    "       coords=[\n",
    "           xr.cftime_range(\"2000-01-01\", \"2000-01-03\", freq=\"D\"),\n",
    "           np.arange(4),\n",
    "           np.arange(5),\n",
    "       ],\n",
    "       dims=[\"time\", \"lat\", \"lon\"],\n",
    "   )\n",
    "fct = obs.copy()\n",
    "fct.values = np.random.rand(3, 4, 5)"
   ]
  },
  {
   "cell_type": "markdown",
   "metadata": {},
   "source": [
    "## Deterministic Metrics\n",
    "\n",
    "`xskillscore` offers a suite of correlation-based and distance-based deterministic metrics.\n",
    "\n",
    "### Correlation-Based \n",
    "\n",
    "* Pearson Correlation (`pearson_r`)\n",
    "* Pearson Correlation p value (`pearson_r_p_value`)\n",
    "* Pearson Correlation effective p value (`pearson_r_eff_p_value`)\n",
    "* Spearman Correlation (`spearman_r`)\n",
    "* Spearman Correlation p value (`spearman_r_p_value`)\n",
    "* Spearman Correlation effective p value (`spearman_r_eff_p_value`)\n",
    "* Effective Sample Size (`effective_sample_size`)\n",
    "* Coefficient of Determination (`r2`)\n",
    "\n",
    "### Distance-Based\n",
    "\n",
    "* Root Mean Squared Error (`rmse`)\n",
    "* Mean Squared Error (`mse`)\n",
    "* Mean Absolute Error (`mae`)\n",
    "* Median Absolute Error (`median_absolute_error`)\n",
    "* Symmetric Mean Absolute Percentage Error (`smape`)\n",
    "* Mean Absolute Percentage Error (`mape`)"
   ]
  },
  {
   "cell_type": "markdown",
   "metadata": {},
   "source": [
    "Calling the functions is very straight-forward. All deterministic functions take the form `func(a, b, dim, **kwargs)`. **Notice that the original dataset is reduced by the dimension passed.** I.e., since we passed `time` as the dimension here, we are returned an object with dimensions `(lat, lon)`."
   ]
  },
  {
   "cell_type": "code",
   "execution_count": 4,
   "metadata": {},
   "outputs": [
    {
     "name": "stdout",
     "output_type": "stream",
     "text": [
      "<xarray.DataArray (lat: 4, lon: 5)>\n",
      "array([[-0.65498127,  0.2468166 ,  0.86493741,  0.87341323, -0.48728164],\n",
      "       [ 0.6966213 , -0.45731798, -0.98747468,  0.96668008, -0.42468482],\n",
      "       [ 0.40086725,  0.75433099, -0.99545503,  0.99634642,  0.04491162],\n",
      "       [ 0.8985016 , -0.35968423,  0.09314668, -0.5904454 , -0.76273947]])\n",
      "Coordinates:\n",
      "  * lat      (lat) int64 0 1 2 3\n",
      "  * lon      (lon) int64 0 1 2 3 4\n"
     ]
    }
   ],
   "source": [
    "r = xs.pearson_r(obs, fct, \"time\")\n",
    "print(r)"
   ]
  },
  {
   "cell_type": "code",
   "execution_count": 5,
   "metadata": {},
   "outputs": [
    {
     "name": "stdout",
     "output_type": "stream",
     "text": [
      "<xarray.DataArray (lat: 4, lon: 5)>\n",
      "array([[0.54535301, 0.84123095, 0.33471601, 0.32380295, 0.67597702],\n",
      "       [0.50937161, 0.69762026, 0.10086578, 0.16480122, 0.72076983],\n",
      "       [0.73741771, 0.45592281, 0.06071906, 0.05443604, 0.97139875],\n",
      "       [0.28931331, 0.76576884, 0.9406149 , 0.5979042 , 0.44770775]])\n",
      "Coordinates:\n",
      "  * lat      (lat) int64 0 1 2 3\n",
      "  * lon      (lon) int64 0 1 2 3 4\n"
     ]
    }
   ],
   "source": [
    "p = xs.pearson_r_p_value(obs, fct, \"time\")\n",
    "print(p)"
   ]
  },
  {
   "cell_type": "markdown",
   "metadata": {},
   "source": [
    "You can also specify multiple axes for deterministic metrics. Here, we apply it over the latitude and longitude dimension (a pattern correlation)."
   ]
  },
  {
   "cell_type": "code",
   "execution_count": 6,
   "metadata": {},
   "outputs": [
    {
     "name": "stdout",
     "output_type": "stream",
     "text": [
      "<xarray.DataArray (time: 3)>\n",
      "array([-0.17520704, -0.2681107 , -0.07783574])\n",
      "Coordinates:\n",
      "  * time     (time) object 2000-01-01 00:00:00 ... 2000-01-03 00:00:00\n"
     ]
    }
   ],
   "source": [
    "r = xs.pearson_r(obs, fct, [\"lat\", \"lon\"])\n",
    "print(r)"
   ]
  },
  {
   "cell_type": "markdown",
   "metadata": {},
   "source": [
    "All deterministic metrics except for `pearson_r_eff_p_value`, `spearman_r_eff_p_value`, and `effective_sample_size` can take the kwarg `weights=...`. `weights` should be a DataArray of the size of the reduced dimension (e.g., if time is being reduced it should be of length 3 in our example).\n",
    "\n",
    "Weighting is a common practice when working with observations and model simulations of the Earth system. When working with rectilinear grids, one can weight the data by the cosine of the latitude, which is maximum at the equator and minimum at the poles (as in the below example). More complicated model grids tend to be accompanied by a cell area varaible, which could also be passed into this function."
   ]
  },
  {
   "cell_type": "code",
   "execution_count": 7,
   "metadata": {},
   "outputs": [],
   "source": [
    "obs2 = xr.DataArray(\n",
    "       np.random.rand(3, 180, 360),\n",
    "       coords=[\n",
    "           xr.cftime_range(\"2000-01-01\", \"2000-01-03\", freq=\"D\"),\n",
    "           np.linspace(-89.5, 89.5, 180),\n",
    "           np.linspace(-179.5, 179.5, 360),\n",
    "       ],\n",
    "       dims=[\"time\", \"lat\", \"lon\"],\n",
    "    )\n",
    "fct2 = obs2.copy()\n",
    "fct2.values = np.random.rand(3, 180, 360)"
   ]
  },
  {
   "cell_type": "code",
   "execution_count": 8,
   "metadata": {},
   "outputs": [],
   "source": [
    "# make weights as cosine of the latitude and broadcast\n",
    "weights = np.cos(np.deg2rad(obs2.lat))\n",
    "_, weights = xr.broadcast(obs2, weights)\n",
    "\n",
    "# Remove the time dimension from weights\n",
    "weights = weights.isel(time=0)"
   ]
  },
  {
   "cell_type": "code",
   "execution_count": 9,
   "metadata": {},
   "outputs": [
    {
     "name": "stdout",
     "output_type": "stream",
     "text": [
      "<xarray.DataArray (time: 3)>\n",
      "array([ 0.00092601, -0.00028878,  0.00415516])\n",
      "Coordinates:\n",
      "  * time     (time) object 2000-01-01 00:00:00 ... 2000-01-03 00:00:00\n"
     ]
    }
   ],
   "source": [
    "r_weighted = xs.pearson_r(obs2, fct2, [\"lat\", \"lon\"], weights=weights)\n",
    "print(r_weighted)"
   ]
  },
  {
   "cell_type": "code",
   "execution_count": 10,
   "metadata": {},
   "outputs": [
    {
     "name": "stdout",
     "output_type": "stream",
     "text": [
      "<xarray.DataArray (time: 3)>\n",
      "array([-0.00082695, -0.00087103,  0.00534033])\n",
      "Coordinates:\n",
      "  * time     (time) object 2000-01-01 00:00:00 ... 2000-01-03 00:00:00\n"
     ]
    }
   ],
   "source": [
    "r_unweighted = xs.pearson_r(obs2, fct2, [\"lat\", \"lon\"], weights=None)\n",
    "print(r_unweighted)"
   ]
  },
  {
   "cell_type": "markdown",
   "metadata": {},
   "source": [
    "You can also pass the optional boolean kwarg `skipna=...`. If `True`, ignore any NaNs (pairwise) in `a` and `b` when computing the result. If `False`, return NaNs anywhere there are pairwise NaNs."
   ]
  },
  {
   "cell_type": "code",
   "execution_count": 11,
   "metadata": {},
   "outputs": [
    {
     "name": "stdout",
     "output_type": "stream",
     "text": [
      "<xarray.DataArray (time: 3, lat: 4, lon: 5)>\n",
      "array([[[       nan,        nan,        nan,        nan,        nan],\n",
      "        [       nan,        nan,        nan,        nan,        nan],\n",
      "        [0.12331465, 0.94621187, 0.14512884, 0.868694  , 0.00819766],\n",
      "        [0.72591448, 0.2831731 , 0.28239725, 0.56488714, 0.27306933]],\n",
      "\n",
      "       [[       nan,        nan,        nan,        nan,        nan],\n",
      "        [       nan,        nan,        nan,        nan,        nan],\n",
      "        [0.23038176, 0.89222197, 0.20256203, 0.30278429, 0.39282783],\n",
      "        [0.86353827, 0.93015826, 0.4274368 , 0.86071556, 0.95588831]],\n",
      "\n",
      "       [[       nan,        nan,        nan,        nan,        nan],\n",
      "        [       nan,        nan,        nan,        nan,        nan],\n",
      "        [0.50160555, 0.01267184, 0.17515158, 0.81939706, 0.6857781 ],\n",
      "        [0.79449325, 0.85014403, 0.1019839 , 0.02029124, 0.8486446 ]]])\n",
      "Coordinates:\n",
      "  * time     (time) object 2000-01-01 00:00:00 ... 2000-01-03 00:00:00\n",
      "  * lat      (lat) int64 0 1 2 3\n",
      "  * lon      (lon) int64 0 1 2 3 4\n"
     ]
    }
   ],
   "source": [
    "obs_with_nans = obs.where(obs.lat > 1)\n",
    "fct_with_nans = fct.where(fct.lat > 1)\n",
    "print(obs_with_nans)"
   ]
  },
  {
   "cell_type": "code",
   "execution_count": 12,
   "metadata": {},
   "outputs": [
    {
     "name": "stdout",
     "output_type": "stream",
     "text": [
      "<xarray.DataArray (time: 3)>\n",
      "array([0.37271828, 0.32857743, 0.37334196])\n",
      "Coordinates:\n",
      "  * time     (time) object 2000-01-01 00:00:00 ... 2000-01-03 00:00:00\n"
     ]
    }
   ],
   "source": [
    "mae_with_skipna = xs.mae(obs_with_nans, fct_with_nans, ['lat', 'lon'], skipna=True)\n",
    "print(mae_with_skipna)"
   ]
  },
  {
   "cell_type": "code",
   "execution_count": 13,
   "metadata": {},
   "outputs": [
    {
     "name": "stdout",
     "output_type": "stream",
     "text": [
      "<xarray.DataArray (time: 3)>\n",
      "array([nan, nan, nan])\n",
      "Coordinates:\n",
      "  * time     (time) object 2000-01-01 00:00:00 ... 2000-01-03 00:00:00\n"
     ]
    }
   ],
   "source": [
    "mae_without_skipna = xs.mae(obs_with_nans, fct_with_nans, ['lat', 'lon'], skipna=False)\n",
    "print(mae_without_skipna)"
   ]
  },
  {
   "cell_type": "markdown",
   "metadata": {},
   "source": [
    "## Probabilistic Metrics\n",
    "\n",
    "`xskillscore` offers a suite of probabilistic metrics, mostly ported from `properscoring`.\n",
    "\n",
    "* Brier Score (`brier_score`)\n",
    "* Discrimination (`discrimination`)\n",
    "* Rank Histogram (`rank_histogram`)\n",
    "* Continuous Ranked Probability Score with the ensemble distribution (`crps_ensemble`)\n",
    "* Continuous Ranked Probability Score with a Gaussian distribution (`crps_gaussian`)\n",
    "* Continuous Ranked Probability Score with numerical integration of the normal distribution (`crps_quadrature`)\n",
    "* Brier scores of an ensemble for exceeding given thresholds (`threshold_brier_score`)\n"
   ]
  },
  {
   "cell_type": "markdown",
   "metadata": {},
   "source": [
    "We now create some data with an ensemble member dimension. In this case, we envision an ensemble forecast with multiple members to validate against our theoretical observations."
   ]
  },
  {
   "cell_type": "code",
   "execution_count": 14,
   "metadata": {},
   "outputs": [],
   "source": [
    "obs3 = xr.DataArray(\n",
    "       np.random.rand(4, 5),\n",
    "       coords=[np.arange(4), np.arange(5)],\n",
    "       dims=[\"lat\", \"lon\"]\n",
    "   )\n",
    "fct3 = xr.DataArray(\n",
    "       np.random.rand(3, 4, 5),\n",
    "       coords=[np.arange(3), np.arange(4), np.arange(5)],\n",
    "       dims=[\"member\", \"lat\", \"lon\"],\n",
    "   )"
   ]
  },
  {
   "cell_type": "markdown",
   "metadata": {},
   "source": [
    "Continuous Ranked Probability Score with the ensemble distribution."
   ]
  },
  {
   "cell_type": "code",
   "execution_count": 15,
   "metadata": {},
   "outputs": [
    {
     "name": "stdout",
     "output_type": "stream",
     "text": [
      "<xarray.DataArray (lat: 4, lon: 5)>\n",
      "array([[0.17882095, 0.4965253 , 0.74543606, 0.69028216, 0.45421577],\n",
      "       [0.11110857, 0.07703227, 0.10797041, 0.38616707, 0.13187368],\n",
      "       [0.07702046, 0.06046974, 0.50557208, 0.25999662, 0.23665461],\n",
      "       [0.27481475, 0.15772403, 0.14754376, 0.106625  , 0.65026722]])\n",
      "Coordinates:\n",
      "  * lat      (lat) int64 0 1 2 3\n",
      "  * lon      (lon) int64 0 1 2 3 4\n"
     ]
    }
   ],
   "source": [
    "crps_ensemble = xs.crps_ensemble(obs3, fct3)\n",
    "print(crps_ensemble)"
   ]
  },
  {
   "cell_type": "markdown",
   "metadata": {},
   "source": [
    "The CRPS with a Gaussian distribution requires two parameters: $\\mu$ and $\\sigma$ from the forecast distribution. Here, we just use the ensemble mean and ensemble spread."
   ]
  },
  {
   "cell_type": "code",
   "execution_count": 16,
   "metadata": {},
   "outputs": [
    {
     "name": "stdout",
     "output_type": "stream",
     "text": [
      "<xarray.DataArray (lat: 4, lon: 5)>\n",
      "array([[0.12636337, 0.49297531, 0.74384332, 0.68624572, 0.44553368],\n",
      "       [0.10690331, 0.03904566, 0.06586907, 0.38377942, 0.10232917],\n",
      "       [0.09498316, 0.06051076, 0.50167733, 0.1666451 , 0.2408734 ],\n",
      "       [0.27309777, 0.15490502, 0.14653249, 0.07744851, 0.64891212]])\n",
      "Coordinates:\n",
      "  * lat      (lat) int64 0 1 2 3\n",
      "  * lon      (lon) int64 0 1 2 3 4\n"
     ]
    }
   ],
   "source": [
    "crps_gaussian = xs.crps_gaussian(obs3, fct3.mean(\"member\"), fct3.std(\"member\"))\n",
    "print(crps_gaussian)"
   ]
  },
  {
   "cell_type": "markdown",
   "metadata": {},
   "source": [
    "The CRPS quadrature metric requires a callable distribution function. Here we use `norm` from `scipy.stats`."
   ]
  },
  {
   "cell_type": "code",
   "execution_count": 17,
   "metadata": {},
   "outputs": [
    {
     "name": "stdout",
     "output_type": "stream",
     "text": [
      "<xarray.DataArray (lat: 4, lon: 5)>\n",
      "array([[0.48234353, 0.57190031, 0.53852454, 0.60051146, 0.24776491],\n",
      "       [0.48769114, 0.43830284, 0.48829526, 0.24000399, 0.26740824],\n",
      "       [0.51670477, 0.30039312, 0.5459281 , 0.39260831, 0.24675637],\n",
      "       [0.32469847, 0.23476291, 0.58601938, 0.29590471, 0.53255926]])\n",
      "Coordinates:\n",
      "  * lat      (lat) int64 0 1 2 3\n",
      "  * lon      (lon) int64 0 1 2 3 4\n"
     ]
    }
   ],
   "source": [
    "from scipy.stats import norm\n",
    "crps_quadrature = xs.crps_quadrature(obs3, norm)\n",
    "print(crps_quadrature)"
   ]
  },
  {
   "cell_type": "markdown",
   "metadata": {},
   "source": [
    "We can also use a threshold Brier Score, to score hits over a certain threshold."
   ]
  },
  {
   "cell_type": "code",
   "execution_count": 18,
   "metadata": {},
   "outputs": [
    {
     "name": "stdout",
     "output_type": "stream",
     "text": [
      "<xarray.DataArray (lat: 4, lon: 5)>\n",
      "array([[0.44444444, 1.        , 1.        , 1.        , 0.11111111],\n",
      "       [0.44444444, 0.44444444, 0.44444444, 0.11111111, 0.11111111],\n",
      "       [0.11111111, 0.        , 1.        , 0.11111111, 0.11111111],\n",
      "       [0.        , 0.        , 0.        , 0.        , 1.        ]])\n",
      "Coordinates:\n",
      "  * lat      (lat) int64 0 1 2 3\n",
      "  * lon      (lon) int64 0 1 2 3 4\n"
     ]
    }
   ],
   "source": [
    "threshold_brier_score = xs.threshold_brier_score(obs3, fct3, 0.7)\n",
    "print(threshold_brier_score)"
   ]
  },
  {
   "cell_type": "code",
   "execution_count": 19,
   "metadata": {},
   "outputs": [
    {
     "name": "stdout",
     "output_type": "stream",
     "text": [
      "<xarray.DataArray (lat: 4, lon: 5)>\n",
      "array([[0.44444444, 0.44444444, 1.        , 1.        , 1.        ],\n",
      "       [0.11111111, 0.        , 0.        , 0.44444444, 0.11111111],\n",
      "       [0.11111111, 0.        , 0.44444444, 0.44444444, 0.44444444],\n",
      "       [0.        , 0.        , 0.        , 0.11111111, 1.        ]])\n",
      "Coordinates:\n",
      "  * lat      (lat) int64 0 1 2 3\n",
      "  * lon      (lon) int64 0 1 2 3 4\n"
     ]
    }
   ],
   "source": [
    "brier_score = xs.brier_score(obs3 > 0.5, (fct3 > 0.5).mean(\"member\"))\n",
    "print(brier_score)"
   ]
  },
  {
   "cell_type": "code",
   "execution_count": 20,
   "metadata": {},
   "outputs": [
    {
     "name": "stdout",
     "output_type": "stream",
     "text": [
      "<xarray.DataArray 'histogram_rank' (rank: 4)>\n",
      "array([3, 1, 8, 8])\n",
      "Coordinates:\n",
      "  * rank     (rank) float64 1.0 2.0 3.0 4.0\n"
     ]
    }
   ],
   "source": [
    "rank_histogram = xs.rank_histogram(obs3, fct3)\n",
    "print(rank_histogram)"
   ]
  },
  {
   "cell_type": "code",
   "execution_count": 21,
   "metadata": {},
   "outputs": [
    {
     "name": "stdout",
     "output_type": "stream",
     "text": [
      "<xarray.DataArray (forecast_probability: 5)>\n",
      "array([0.25      , 0.33333333, 0.        , 0.16666667, 0.25      ])\n",
      "Coordinates:\n",
      "  * forecast_probability  (forecast_probability) float64 0.0 0.25 0.5 0.75 1.0\n"
     ]
    }
   ],
   "source": [
    "hist_event, hist_no_event = xs.discrimination(obs3 > 0.5, (fct3 > 0.5).mean(\"member\"))\n",
    "print(hist_event)"
   ]
  },
  {
   "cell_type": "code",
   "execution_count": 22,
   "metadata": {},
   "outputs": [
    {
     "name": "stdout",
     "output_type": "stream",
     "text": [
      "<xarray.DataArray (forecast_probability: 5)>\n",
      "array([0.375, 0.25 , 0.   , 0.25 , 0.125])\n",
      "Coordinates:\n",
      "  * forecast_probability  (forecast_probability) float64 0.0 0.25 0.5 0.75 1.0\n"
     ]
    }
   ],
   "source": [
    "print(hist_no_event)"
   ]
  },
  {
   "cell_type": "markdown",
   "metadata": {},
   "source": [
    "## Contingency-Based\n",
    "\n",
    "To work with contingency-based scoring, first instantiate a `Contingency` object by passing in your observations, forecast, and observation/forecast bin edges. See https://www.cawcr.gov.au/projects/verification/#Contingency_table for more information."
   ]
  },
  {
   "cell_type": "code",
   "execution_count": 23,
   "metadata": {},
   "outputs": [],
   "source": [
    "dichotomous_category_edges = np.array([0, 0.5, 1]) # \"dichotomous\" mean two-category\n",
    "dichotomous_contingency = xs.Contingency(obs, fct,\n",
    "                                        dichotomous_category_edges,\n",
    "                                        dichotomous_category_edges,\n",
    "                                        dim=['lat','lon'])\n",
    "dichotomous_contingency_table = dichotomous_contingency.table"
   ]
  },
  {
   "cell_type": "code",
   "execution_count": 24,
   "metadata": {},
   "outputs": [
    {
     "name": "stdout",
     "output_type": "stream",
     "text": [
      "<xarray.DataArray 'histogram_observations_forecasts' (time: 3, observations_category: 2, forecasts_category: 2)>\n",
      "array([[[4, 6],\n",
      "        [5, 5]],\n",
      "\n",
      "       [[3, 7],\n",
      "        [6, 4]],\n",
      "\n",
      "       [[2, 6],\n",
      "        [5, 7]]])\n",
      "Coordinates:\n",
      "  * time                          (time) object 2000-01-01 00:00:00 ... 2000-...\n",
      "    observations_category_bounds  (observations_category) <U10 '(0.0, 0.5]' '...\n",
      "    forecasts_category_bounds     (forecasts_category) <U10 '(0.0, 0.5]' '(0....\n",
      "  * observations_category         (observations_category) int64 1 2\n",
      "  * forecasts_category            (forecasts_category) int64 1 2\n"
     ]
    }
   ],
   "source": [
    "print(dichotomous_contingency_table)"
   ]
  },
  {
   "cell_type": "markdown",
   "metadata": {},
   "source": [
    "Scores based on the constructed contingency table can be called via class methods. The available methods are:\n",
    "\n",
    "* bias_score\n",
    "* hit_rate\n",
    "* false_alarm_ratio\n",
    "* false_alarm_rate\n",
    "* success_ratio\n",
    "* threat_score\n",
    "* equit_threat_score\n",
    "* odds_ratio\n",
    "* odds_ratio_skill_score\n",
    "* accuracy\n",
    "* heidke_score\n",
    "* peirce_score\n",
    "* gerrity_score\n",
    "\n",
    "Below, we share a few examples of these in action."
   ]
  },
  {
   "cell_type": "code",
   "execution_count": 25,
   "metadata": {},
   "outputs": [
    {
     "name": "stdout",
     "output_type": "stream",
     "text": [
      "<xarray.DataArray 'histogram_observations_forecasts' (time: 3)>\n",
      "array([1.1       , 1.1       , 1.08333333])\n",
      "Coordinates:\n",
      "  * time     (time) object 2000-01-01 00:00:00 ... 2000-01-03 00:00:00\n"
     ]
    }
   ],
   "source": [
    "print(dichotomous_contingency.bias_score())"
   ]
  },
  {
   "cell_type": "code",
   "execution_count": 26,
   "metadata": {},
   "outputs": [
    {
     "name": "stdout",
     "output_type": "stream",
     "text": [
      "<xarray.DataArray 'histogram_observations_forecasts' (time: 3)>\n",
      "array([0.5       , 0.4       , 0.58333333])\n",
      "Coordinates:\n",
      "  * time     (time) object 2000-01-01 00:00:00 ... 2000-01-03 00:00:00\n"
     ]
    }
   ],
   "source": [
    "print(dichotomous_contingency.hit_rate())"
   ]
  },
  {
   "cell_type": "code",
   "execution_count": 27,
   "metadata": {},
   "outputs": [
    {
     "name": "stdout",
     "output_type": "stream",
     "text": [
      "<xarray.DataArray 'histogram_observations_forecasts' (time: 3)>\n",
      "array([0.6 , 0.7 , 0.75])\n",
      "Coordinates:\n",
      "  * time     (time) object 2000-01-01 00:00:00 ... 2000-01-03 00:00:00\n"
     ]
    }
   ],
   "source": [
    "print(dichotomous_contingency.false_alarm_rate())"
   ]
  },
  {
   "cell_type": "code",
   "execution_count": 28,
   "metadata": {},
   "outputs": [
    {
     "name": "stdout",
     "output_type": "stream",
     "text": [
      "<xarray.DataArray 'histogram_observations_forecasts' (time: 3)>\n",
      "array([-0.2       , -0.55555556, -0.36363636])\n",
      "Coordinates:\n",
      "  * time     (time) object 2000-01-01 00:00:00 ... 2000-01-03 00:00:00\n"
     ]
    }
   ],
   "source": [
    "print(dichotomous_contingency.odds_ratio_skill_score())"
   ]
  },
  {
   "cell_type": "markdown",
   "metadata": {},
   "source": [
    "Now we can leverage multi-category edges to make use of some scores."
   ]
  },
  {
   "cell_type": "code",
   "execution_count": 29,
   "metadata": {},
   "outputs": [],
   "source": [
    "multi_category_edges = np.array([0, 0.25, 0.75, 1])\n",
    "multicategory_contingency = xs.Contingency(obs, fct,\n",
    "                                           multi_category_edges,\n",
    "                                           multi_category_edges,\n",
    "                                           dim=['lat','lon'])"
   ]
  },
  {
   "cell_type": "code",
   "execution_count": 30,
   "metadata": {},
   "outputs": [
    {
     "name": "stdout",
     "output_type": "stream",
     "text": [
      "<xarray.DataArray 'histogram_observations_forecasts' (time: 3)>\n",
      "array([0.25, 0.3 , 0.15])\n",
      "Coordinates:\n",
      "  * time     (time) object 2000-01-01 00:00:00 ... 2000-01-03 00:00:00\n"
     ]
    }
   ],
   "source": [
    "print(multicategory_contingency.accuracy())"
   ]
  },
  {
   "cell_type": "code",
   "execution_count": 31,
   "metadata": {},
   "outputs": [
    {
     "name": "stdout",
     "output_type": "stream",
     "text": [
      "<xarray.DataArray 'histogram_observations_forecasts' (time: 3)>\n",
      "array([-0.12781955, -0.02941176, -0.1971831 ])\n",
      "Coordinates:\n",
      "  * time     (time) object 2000-01-01 00:00:00 ... 2000-01-03 00:00:00\n"
     ]
    }
   ],
   "source": [
    "print(multicategory_contingency.heidke_score())"
   ]
  },
  {
   "cell_type": "code",
   "execution_count": 32,
   "metadata": {},
   "outputs": [
    {
     "name": "stdout",
     "output_type": "stream",
     "text": [
      "<xarray.DataArray 'histogram_observations_forecasts' (time: 3)>\n",
      "array([-0.12878788, -0.03100775, -0.21875   ])\n",
      "Coordinates:\n",
      "  * time     (time) object 2000-01-01 00:00:00 ... 2000-01-03 00:00:00\n"
     ]
    }
   ],
   "source": [
    "print(multicategory_contingency.peirce_score())"
   ]
  },
  {
   "cell_type": "code",
   "execution_count": 33,
   "metadata": {},
   "outputs": [
    {
     "name": "stdout",
     "output_type": "stream",
     "text": [
      "<xarray.DataArray 'histogram_observations_forecasts' (time: 3)>\n",
      "array([-0.10714286, -0.09451659, -0.16666667])\n",
      "Coordinates:\n",
      "  * time     (time) object 2000-01-01 00:00:00 ... 2000-01-03 00:00:00\n"
     ]
    }
   ],
   "source": [
    "print(multicategory_contingency.gerrity_score())"
   ]
  },
  {
   "cell_type": "markdown",
   "metadata": {},
   "source": [
    "## Accessors\n",
    "\n",
    "You can also use `xskillscore` as a method of your `xarray` Dataset."
   ]
  },
  {
   "cell_type": "code",
   "execution_count": 34,
   "metadata": {},
   "outputs": [],
   "source": [
    "ds = xr.Dataset()\n",
    "ds[\"obs_var\"] = obs\n",
    "ds[\"fct_var\"] = fct"
   ]
  },
  {
   "cell_type": "markdown",
   "metadata": {},
   "source": [
    "In the case that your Dataset contains both your observation and forecast variable, just pass them as strings into the function."
   ]
  },
  {
   "cell_type": "code",
   "execution_count": 35,
   "metadata": {},
   "outputs": [
    {
     "name": "stdout",
     "output_type": "stream",
     "text": [
      "<xarray.DataArray (lat: 4, lon: 5)>\n",
      "array([[-0.65498127,  0.2468166 ,  0.86493741,  0.87341323, -0.48728164],\n",
      "       [ 0.6966213 , -0.45731798, -0.98747468,  0.96668008, -0.42468482],\n",
      "       [ 0.40086725,  0.75433099, -0.99545503,  0.99634642,  0.04491162],\n",
      "       [ 0.8985016 , -0.35968423,  0.09314668, -0.5904454 , -0.76273947]])\n",
      "Coordinates:\n",
      "  * lat      (lat) int64 0 1 2 3\n",
      "  * lon      (lon) int64 0 1 2 3 4\n"
     ]
    }
   ],
   "source": [
    "print(ds.xs.pearson_r(\"obs_var\", \"fct_var\", \"time\"))"
   ]
  },
  {
   "cell_type": "markdown",
   "metadata": {},
   "source": [
    "You can also pass in a separate Dataset that contains your observations or forecast variable."
   ]
  },
  {
   "cell_type": "code",
   "execution_count": 36,
   "metadata": {},
   "outputs": [
    {
     "name": "stdout",
     "output_type": "stream",
     "text": [
      "<xarray.DataArray (lat: 4, lon: 5)>\n",
      "array([[-0.65498127,  0.2468166 ,  0.86493741,  0.87341323, -0.48728164],\n",
      "       [ 0.6966213 , -0.45731798, -0.98747468,  0.96668008, -0.42468482],\n",
      "       [ 0.40086725,  0.75433099, -0.99545503,  0.99634642,  0.04491162],\n",
      "       [ 0.8985016 , -0.35968423,  0.09314668, -0.5904454 , -0.76273947]])\n",
      "Coordinates:\n",
      "  * lat      (lat) int64 0 1 2 3\n",
      "  * lon      (lon) int64 0 1 2 3 4\n"
     ]
    }
   ],
   "source": [
    "ds = ds.drop_vars(\"fct_var\")\n",
    "print(ds.xs.pearson_r(\"obs_var\", fct, \"time\"))"
   ]
  }
 ],
 "metadata": {
  "kernelspec": {
   "display_name": "Python 3",
   "language": "python",
   "name": "python3"
  },
  "language_info": {
   "codemirror_mode": {
    "name": "ipython",
    "version": 3
   },
   "file_extension": ".py",
   "mimetype": "text/x-python",
   "name": "python",
   "nbconvert_exporter": "python",
   "pygments_lexer": "ipython3",
   "version": "3.7.6"
  }
 },
 "nbformat": 4,
 "nbformat_minor": 4
}
