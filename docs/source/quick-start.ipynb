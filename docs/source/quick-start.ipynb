{
 "cells": [
  {
   "cell_type": "markdown",
   "metadata": {},
   "source": [
    "# Quick Start\n",
    "\n",
    "See the API for more detailed information, examples, formulas, and references for each function."
   ]
  },
  {
   "cell_type": "code",
   "execution_count": 2,
   "metadata": {},
   "outputs": [],
   "source": [
    "import numpy as np\n",
    "import xarray as xr\n",
    "import xskillscore as xs"
   ]
  },
  {
   "cell_type": "markdown",
   "metadata": {},
   "source": [
    "Here, we generate some sample gridded data. Our data has three time steps, and a 4x5 latitude/longitude grid. `obs` replicates some verification data and `fct` some forecast (e.g. from a statistical or dynamical model)."
   ]
  },
  {
   "cell_type": "code",
   "execution_count": 3,
   "metadata": {},
   "outputs": [],
   "source": [
    "obs = xr.DataArray(\n",
    "       np.random.rand(3, 4, 5),\n",
    "       coords=[\n",
    "           xr.cftime_range(\"2000-01-01\", \"2000-01-03\", freq=\"D\"),\n",
    "           np.arange(4),\n",
    "           np.arange(5),\n",
    "       ],\n",
    "       dims=[\"time\", \"lat\", \"lon\"],\n",
    "   )\n",
    "fct = obs.copy()\n",
    "fct.values = np.random.rand(3, 4, 5)"
   ]
  },
  {
   "cell_type": "markdown",
   "metadata": {},
   "source": [
    "## Deterministic Metrics\n",
    "\n",
    "`xskillscore` offers a suite of correlation-based and distance-based deterministic metrics.\n",
    "\n",
    "### Correlation-Based \n",
    "\n",
    "* Pearson Correlation (`pearson_r`)\n",
    "* Pearson Correlation p value (`pearson_r_p_value`)\n",
    "* Pearson Correlation effective p value (`pearson_r_eff_p_value`)\n",
    "* Spearman Correlation (`spearman_r`)\n",
    "* Spearman Correlation p value (`spearman_r_p_value`)\n",
    "* Spearman Correlation effective p value (`spearman_r_eff_p_value`)\n",
    "* Effective Sample Size (`effective_sample_size`)\n",
    "* Coefficient of Determination (`r2`)\n",
    "\n",
    "### Distance-Based\n",
    "\n",
    "* Root Mean Squared Error (`rmse`)\n",
    "* Mean Squared Error (`mse`)\n",
    "* Mean Absolute Error (`mae`)\n",
    "* Median Absolute Error (`median_absolute_error`)\n",
    "* Symmetric Mean Absolute Percentage Error (`smape`)\n",
    "* Mean Absolute Percentage Error (`mape`)"
   ]
  },
  {
   "cell_type": "markdown",
   "metadata": {},
   "source": [
    "Calling the functions is very straight-forward. All deterministic functions take the form `func(a, b, dim, **kwargs)`. **Notice that the original dataset is reduced by the dimension passed.** I.e., since we passed `time` as the dimension here, we are returned an object with dimensions `(lat, lon)`."
   ]
  },
  {
   "cell_type": "code",
   "execution_count": 4,
   "metadata": {},
   "outputs": [
    {
     "name": "stdout",
     "output_type": "stream",
     "text": [
      "<xarray.DataArray (lat: 4, lon: 5)>\n",
      "array([[-0.67103963, -0.7994918 , -0.4877047 ,  0.9009042 , -0.99576019],\n",
      "       [ 0.01011846, -0.98098359,  0.99660269,  0.98889716,  0.16882124],\n",
      "       [ 0.53017399, -0.27949033, -0.39054563, -0.62662994, -0.08972376],\n",
      "       [-0.99835429,  0.44805023,  0.36821353,  0.99698985,  0.99991305]])\n",
      "Coordinates:\n",
      "  * lat      (lat) int64 0 1 2 3\n",
      "  * lon      (lon) int64 0 1 2 3 4\n"
     ]
    }
   ],
   "source": [
    "r = xs.pearson_r(obs, fct, \"time\")\n",
    "print(r)"
   ]
  },
  {
   "cell_type": "code",
   "execution_count": 5,
   "metadata": {},
   "outputs": [
    {
     "name": "stdout",
     "output_type": "stream",
     "text": [
      "<xarray.DataArray (lat: 4, lon: 5)>\n",
      "array([[0.53169606, 0.41020445, 0.67566856, 0.28580915, 0.05864376],\n",
      "       [0.99355828, 0.12435121, 0.05249113, 0.09495434, 0.89200788],\n",
      "       [0.6442532 , 0.81966902, 0.74457273, 0.56886755, 0.94280316],\n",
      "       [0.03652847, 0.70423714, 0.75993907, 0.04940812, 0.00839532]])\n",
      "Coordinates:\n",
      "  * lat      (lat) int64 0 1 2 3\n",
      "  * lon      (lon) int64 0 1 2 3 4\n"
     ]
    }
   ],
   "source": [
    "p = xs.pearson_r_p_value(obs, fct, \"time\")\n",
    "print(p)"
   ]
  },
  {
   "cell_type": "markdown",
   "metadata": {},
   "source": [
    "You can also specify multiple axes for deterministic metrics. Here, we apply it over the latitude and longitude dimension (a pattern correlation)."
   ]
  },
  {
   "cell_type": "code",
   "execution_count": 6,
   "metadata": {},
   "outputs": [
    {
     "name": "stdout",
     "output_type": "stream",
     "text": [
      "<xarray.DataArray (time: 3)>\n",
      "array([ 0.12015305, -0.04756884, -0.10660076])\n",
      "Coordinates:\n",
      "  * time     (time) object 2000-01-01 00:00:00 ... 2000-01-03 00:00:00\n"
     ]
    }
   ],
   "source": [
    "r = xs.pearson_r(obs, fct, [\"lat\", \"lon\"])\n",
    "print(r)"
   ]
  },
  {
   "cell_type": "markdown",
   "metadata": {},
   "source": [
    "All deterministic metrics except for `pearson_r_eff_p_value`, `spearman_r_eff_p_value`, and `effective_sample_size` can take the kwarg `weights=...`. `weights` should be a DataArray of the size of the reduced dimension (e.g., if time is being reduced it should be of length 3 in our example).\n",
    "\n",
    "Weighting is a common practice when working with observations and model simulations of the Earth system. When working with rectilinear grids, one can weight the data by the cosine of the latitude, which is maximum at the equator and minimum at the poles (as in the below example). More complicated model grids tend to be accompanied by a cell area varaible, which could also be passed into this function."
   ]
  },
  {
   "cell_type": "code",
   "execution_count": 7,
   "metadata": {},
   "outputs": [],
   "source": [
    "obs2 = xr.DataArray(\n",
    "       np.random.rand(3, 180, 360),\n",
    "       coords=[\n",
    "           xr.cftime_range(\"2000-01-01\", \"2000-01-03\", freq=\"D\"),\n",
    "           np.linspace(-89.5, 89.5, 180),\n",
    "           np.linspace(-179.5, 179.5, 360),\n",
    "       ],\n",
    "       dims=[\"time\", \"lat\", \"lon\"],\n",
    "    )\n",
    "fct2 = obs2.copy()\n",
    "fct2.values = np.random.rand(3, 180, 360)"
   ]
  },
  {
   "cell_type": "code",
   "execution_count": 8,
   "metadata": {},
   "outputs": [],
   "source": [
    "# make weights as cosine of the latitude and broadcast\n",
    "weights = np.cos(np.deg2rad(obs2.lat))\n",
    "_, weights = xr.broadcast(obs2, weights)\n",
    "\n",
    "# Remove the time dimension from weights\n",
    "weights = weights.isel(time=0)"
   ]
  },
  {
   "cell_type": "code",
   "execution_count": 9,
   "metadata": {},
   "outputs": [
    {
     "name": "stdout",
     "output_type": "stream",
     "text": [
      "<xarray.DataArray (time: 3)>\n",
      "array([ 0.00962148,  0.00248914, -0.00356835])\n",
      "Coordinates:\n",
      "  * time     (time) object 2000-01-01 00:00:00 ... 2000-01-03 00:00:00\n"
     ]
    }
   ],
   "source": [
    "r_weighted = xs.pearson_r(obs2, fct2, [\"lat\", \"lon\"], weights=weights)\n",
    "print(r_weighted)"
   ]
  },
  {
   "cell_type": "code",
   "execution_count": 10,
   "metadata": {},
   "outputs": [
    {
     "name": "stdout",
     "output_type": "stream",
     "text": [
      "<xarray.DataArray (time: 3)>\n",
      "array([ 0.01125428, -0.0005663 , -0.00429196])\n",
      "Coordinates:\n",
      "  * time     (time) object 2000-01-01 00:00:00 ... 2000-01-03 00:00:00\n"
     ]
    }
   ],
   "source": [
    "r_unweighted = xs.pearson_r(obs2, fct2, [\"lat\", \"lon\"], weights=None)\n",
    "print(r_unweighted)"
   ]
  },
  {
   "cell_type": "markdown",
   "metadata": {},
   "source": [
    "You can also pass the optional boolean kwarg `skipna=...`. If `True`, ignore any NaNs (pairwise) in `a` and `b` when computing the result. If `False`, return NaNs anywhere there are pairwise NaNs."
   ]
  },
  {
   "cell_type": "code",
   "execution_count": 11,
   "metadata": {},
   "outputs": [
    {
     "name": "stdout",
     "output_type": "stream",
     "text": [
      "<xarray.DataArray (time: 3, lat: 4, lon: 5)>\n",
      "array([[[       nan,        nan,        nan,        nan,        nan],\n",
      "        [       nan,        nan,        nan,        nan,        nan],\n",
      "        [0.94394431, 0.00241133, 0.88655773, 0.24855886, 0.12939016],\n",
      "        [0.74368656, 0.43481756, 0.09270441, 0.70121719, 0.65438619]],\n",
      "\n",
      "       [[       nan,        nan,        nan,        nan,        nan],\n",
      "        [       nan,        nan,        nan,        nan,        nan],\n",
      "        [0.97952998, 0.11696087, 0.02818402, 0.41481101, 0.06008297],\n",
      "        [0.48527913, 0.78267699, 0.9700981 , 0.68906662, 0.42554125]],\n",
      "\n",
      "       [[       nan,        nan,        nan,        nan,        nan],\n",
      "        [       nan,        nan,        nan,        nan,        nan],\n",
      "        [0.95429095, 0.77787857, 0.11121986, 0.90936295, 0.56665484],\n",
      "        [0.43491673, 0.53301838, 0.14625798, 0.14301593, 0.30789034]]])\n",
      "Coordinates:\n",
      "  * time     (time) object 2000-01-01 00:00:00 ... 2000-01-03 00:00:00\n",
      "  * lat      (lat) int64 0 1 2 3\n",
      "  * lon      (lon) int64 0 1 2 3 4\n"
     ]
    }
   ],
   "source": [
    "obs_with_nans = obs.where(obs.lat > 1)\n",
    "fct_with_nans = fct.where(fct.lat > 1)\n",
    "print(obs_with_nans)"
   ]
  },
  {
   "cell_type": "code",
   "execution_count": 12,
   "metadata": {},
   "outputs": [
    {
     "name": "stdout",
     "output_type": "stream",
     "text": [
      "<xarray.DataArray (time: 3)>\n",
      "array([0.3581193 , 0.31215209, 0.38782476])\n",
      "Coordinates:\n",
      "  * time     (time) object 2000-01-01 00:00:00 ... 2000-01-03 00:00:00\n"
     ]
    }
   ],
   "source": [
    "mae_with_skipna = xs.mae(obs_with_nans, fct_with_nans, ['lat', 'lon'], skipna=True)\n",
    "print(mae_with_skipna)"
   ]
  },
  {
   "cell_type": "code",
   "execution_count": 13,
   "metadata": {},
   "outputs": [
    {
     "name": "stdout",
     "output_type": "stream",
     "text": [
      "<xarray.DataArray (time: 3)>\n",
      "array([nan, nan, nan])\n",
      "Coordinates:\n",
      "  * time     (time) object 2000-01-01 00:00:00 ... 2000-01-03 00:00:00\n"
     ]
    }
   ],
   "source": [
    "mae_without_skipna = xs.mae(obs_with_nans, fct_with_nans, ['lat', 'lon'], skipna=False)\n",
    "print(mae_without_skipna)"
   ]
  },
  {
   "cell_type": "markdown",
   "metadata": {},
   "source": [
    "## Probabilistic Metrics\n",
    "\n",
    "`xskillscore` offers a suite of probabilistic metrics, mostly ported from `properscoring`.\n",
    "\n",
    "* Brier Score (`brier_score`)\n",
    "* Discrimination (`discrimination`)\n",
    "* Rank Histogram (`rank_histogram`)\n",
    "* Continuous Ranked Probability Score with the ensemble distribution (`crps_ensemble`)\n",
    "* Continuous Ranked Probability Score with a Gaussian distribution (`crps_gaussian`)\n",
    "* Continuous Ranked Probability Score with numerical integration of the normal distribution (`crps_quadrature`)\n",
    "* Brier scores of an ensemble for exceeding given thresholds (`threshold_brier_score`)\n"
   ]
  },
  {
   "cell_type": "markdown",
   "metadata": {},
   "source": [
    "We now create some data with an ensemble member dimension. In this case, we envision an ensemble forecast with multiple members to validate against our theoretical observations."
   ]
  },
  {
   "cell_type": "code",
   "execution_count": 14,
   "metadata": {},
   "outputs": [],
   "source": [
    "obs3 = xr.DataArray(\n",
    "       np.random.rand(4, 5),\n",
    "       coords=[np.arange(4), np.arange(5)],\n",
    "       dims=[\"lat\", \"lon\"]\n",
    "   )\n",
    "fct3 = xr.DataArray(\n",
    "       np.random.rand(3, 4, 5),\n",
    "       coords=[np.arange(3), np.arange(4), np.arange(5)],\n",
    "       dims=[\"member\", \"lat\", \"lon\"],\n",
    "   )"
   ]
  },
  {
   "cell_type": "markdown",
   "metadata": {},
   "source": [
    "Continuous Ranked Probability Score with the ensemble distribution."
   ]
  },
  {
   "cell_type": "code",
   "execution_count": 15,
   "metadata": {},
   "outputs": [
    {
     "name": "stdout",
     "output_type": "stream",
     "text": [
      "<xarray.DataArray (lat: 4, lon: 5)>\n",
      "array([[0.10467369, 0.06156941, 0.1410602 , 0.10320587, 0.03301175],\n",
      "       [0.28093861, 0.12891183, 0.37212301, 0.13652023, 0.21922018],\n",
      "       [0.03215846, 0.32533176, 0.20797605, 0.57981331, 0.37718452],\n",
      "       [0.11517648, 0.17513359, 0.03096277, 0.61624043, 0.33855379]])\n",
      "Coordinates:\n",
      "  * lat      (lat) int64 0 1 2 3\n",
      "  * lon      (lon) int64 0 1 2 3 4\n"
     ]
    }
   ],
   "source": [
    "crps_ensemble = xs.crps_ensemble(obs3, fct3)\n",
    "print(crps_ensemble)"
   ]
  },
  {
   "cell_type": "markdown",
   "metadata": {},
   "source": [
    "The CRPS with a Gaussian distribution requires two parameters: $\\mu$ and $\\sigma$ from the forecast distribution. Here, we just use the ensemble mean and ensemble spread."
   ]
  },
  {
   "cell_type": "code",
   "execution_count": 16,
   "metadata": {},
   "outputs": [
    {
     "name": "stdout",
     "output_type": "stream",
     "text": [
      "<xarray.DataArray (lat: 4, lon: 5)>\n",
      "array([[0.07458379, 0.03396951, 0.13939311, 0.09920366, 0.02800053],\n",
      "       [0.27520707, 0.13358856, 0.36454362, 0.10009129, 0.1985102 ],\n",
      "       [0.02917916, 0.31957214, 0.20334355, 0.57170464, 0.37210022],\n",
      "       [0.05558333, 0.18163534, 0.022923  , 0.61590686, 0.33405069]])\n",
      "Coordinates:\n",
      "  * lat      (lat) int64 0 1 2 3\n",
      "  * lon      (lon) int64 0 1 2 3 4\n"
     ]
    }
   ],
   "source": [
    "crps_gaussian = xs.crps_gaussian(obs3, fct3.mean(\"member\"), fct3.std(\"member\"))\n",
    "print(crps_gaussian)"
   ]
  },
  {
   "cell_type": "markdown",
   "metadata": {},
   "source": [
    "The CRPS quadrature metric requires a callable distribution function. Here we use `norm` from `scipy.stats`."
   ]
  },
  {
   "cell_type": "code",
   "execution_count": 17,
   "metadata": {},
   "outputs": [
    {
     "name": "stdout",
     "output_type": "stream",
     "text": [
      "<xarray.DataArray (lat: 4, lon: 5)>\n",
      "array([[0.31801604, 0.33631719, 0.27560464, 0.39399055, 0.39258011],\n",
      "       [0.44293259, 0.43650668, 0.23669881, 0.36556428, 0.52749683],\n",
      "       [0.2586594 , 0.2394579 , 0.28837827, 0.53477731, 0.2499387 ],\n",
      "       [0.39407129, 0.24743099, 0.43091087, 0.23956816, 0.23797903]])\n",
      "Coordinates:\n",
      "  * lat      (lat) int64 0 1 2 3\n",
      "  * lon      (lon) int64 0 1 2 3 4\n"
     ]
    }
   ],
   "source": [
    "from scipy.stats import norm\n",
    "crps_quadrature = xs.crps_quadrature(obs3, norm)\n",
    "print(crps_quadrature)"
   ]
  },
  {
   "cell_type": "markdown",
   "metadata": {},
   "source": [
    "We can also use a threshold Brier Score, to score hits over a certain threshold."
   ]
  },
  {
   "cell_type": "code",
   "execution_count": 18,
   "metadata": {},
   "outputs": [
    {
     "name": "stdout",
     "output_type": "stream",
     "text": [
      "<xarray.DataArray (lat: 4, lon: 5)>\n",
      "array([[0.11111111, 0.        , 0.        , 0.44444444, 0.11111111],\n",
      "       [1.        , 1.        , 0.11111111, 0.11111111, 0.44444444],\n",
      "       [0.        , 0.        , 0.11111111, 1.        , 0.11111111],\n",
      "       [0.44444444, 0.11111111, 0.11111111, 1.        , 0.44444444]])\n",
      "Coordinates:\n",
      "  * lat      (lat) int64 0 1 2 3\n",
      "  * lon      (lon) int64 0 1 2 3 4\n"
     ]
    }
   ],
   "source": [
    "threshold_brier_score = xs.threshold_brier_score(obs3, fct3, 0.7)\n",
    "print(threshold_brier_score)"
   ]
  },
  {
   "cell_type": "code",
   "execution_count": 19,
   "metadata": {},
   "outputs": [
    {
     "name": "stdout",
     "output_type": "stream",
     "text": [
      "<xarray.DataArray (lat: 4, lon: 5)>\n",
      "array([[0.44444444, 0.11111111, 0.44444444, 0.        , 0.        ],\n",
      "       [0.44444444, 0.11111111, 0.11111111, 0.44444444, 0.44444444],\n",
      "       [0.        , 0.44444444, 1.        , 1.        , 0.44444444],\n",
      "       [0.11111111, 0.11111111, 0.        , 1.        , 0.44444444]])\n",
      "Coordinates:\n",
      "  * lat      (lat) int64 0 1 2 3\n",
      "  * lon      (lon) int64 0 1 2 3 4\n"
     ]
    }
   ],
   "source": [
    "brier_score = xs.brier_score(obs3 > 0.5, (fct3 > 0.5).mean(\"member\"))\n",
    "print(brier_score)"
   ]
  },
  {
   "cell_type": "code",
   "execution_count": 20,
   "metadata": {},
   "outputs": [
    {
     "name": "stdout",
     "output_type": "stream",
     "text": [
      "<xarray.DataArray 'histogram_rank' (rank: 4)>\n",
      "array([8, 4, 5, 3])\n",
      "Coordinates:\n",
      "  * rank     (rank) float64 1.0 2.0 3.0 4.0\n"
     ]
    }
   ],
   "source": [
    "rank_histogram = xs.rank_histogram(obs3, fct3)\n",
    "print(rank_histogram)"
   ]
  },
  {
   "cell_type": "code",
   "execution_count": 21,
   "metadata": {},
   "outputs": [
    {
     "name": "stdout",
     "output_type": "stream",
     "text": [
      "<xarray.DataArray (forecast_probability: 5)>\n",
      "array([0.1, 0.3, 0. , 0.3, 0.3])\n",
      "Coordinates:\n",
      "  * forecast_probability  (forecast_probability) float64 0.1 0.3 0.5 0.7 0.9\n"
     ]
    }
   ],
   "source": [
    "hist_event, hist_no_event = xs.discrimination(obs3 > 0.5, (fct3 > 0.5).mean(\"member\"))\n",
    "print(hist_event)"
   ]
  },
  {
   "cell_type": "code",
   "execution_count": 22,
   "metadata": {},
   "outputs": [
    {
     "name": "stdout",
     "output_type": "stream",
     "text": [
      "<xarray.DataArray (forecast_probability: 5)>\n",
      "array([0.1, 0.2, 0. , 0.5, 0.2])\n",
      "Coordinates:\n",
      "  * forecast_probability  (forecast_probability) float64 0.1 0.3 0.5 0.7 0.9\n"
     ]
    }
   ],
   "source": [
    "print(hist_no_event)"
   ]
  },
  {
   "cell_type": "markdown",
   "metadata": {},
   "source": [
    "## Contingency-Based\n",
    "\n",
    "To work with contingency-based scoring, first instantiate a `Contingency` object by passing in your observations, forecast, and observation/forecast bin edges. See https://www.cawcr.gov.au/projects/verification/#Contingency_table for more information."
   ]
  },
  {
   "cell_type": "code",
   "execution_count": 23,
   "metadata": {},
   "outputs": [],
   "source": [
    "dichotomous_category_edges = np.array([0, 0.5, 1]) # \"dichotomous\" mean two-category\n",
    "dichotomous_contingency = xs.Contingency(obs, fct,\n",
    "                                        dichotomous_category_edges,\n",
    "                                        dichotomous_category_edges,\n",
    "                                        dim=['lat','lon'])\n",
    "dichotomous_contingency_table = dichotomous_contingency.table"
   ]
  },
  {
   "cell_type": "code",
   "execution_count": 24,
   "metadata": {},
   "outputs": [
    {
     "name": "stdout",
     "output_type": "stream",
     "text": [
      "<xarray.DataArray 'histogram_observations_forecasts' (time: 3, observations_category: 2, forecasts_category: 2)>\n",
      "array([[[7, 3],\n",
      "        [4, 6]],\n",
      "\n",
      "       [[2, 7],\n",
      "        [2, 9]],\n",
      "\n",
      "       [[4, 3],\n",
      "        [8, 5]]])\n",
      "Coordinates:\n",
      "  * time                          (time) object 2000-01-01 00:00:00 ... 2000-...\n",
      "    observations_category_bounds  (observations_category) <U10 '(0.0, 0.5]' '...\n",
      "    forecasts_category_bounds     (forecasts_category) <U10 '(0.0, 0.5]' '(0....\n",
      "  * observations_category         (observations_category) int64 1 2\n",
      "  * forecasts_category            (forecasts_category) int64 1 2\n"
     ]
    }
   ],
   "source": [
    "print(dichotomous_contingency_table)"
   ]
  },
  {
   "cell_type": "markdown",
   "metadata": {},
   "source": [
    "Scores based on the constructed contingency table can be called via class methods. The available methods are:\n",
    "\n",
    "* bias_score\n",
    "* hit_rate\n",
    "* false_alarm_ratio\n",
    "* false_alarm_rate\n",
    "* success_ratio\n",
    "* threat_score\n",
    "* equit_threat_score\n",
    "* odds_ratio\n",
    "* odds_ratio_skill_score\n",
    "* accuracy\n",
    "* heidke_score\n",
    "* peirce_score\n",
    "* gerrity_score\n",
    "\n",
    "Below, we share a few examples of these in action."
   ]
  },
  {
   "cell_type": "code",
   "execution_count": 25,
   "metadata": {},
   "outputs": [
    {
     "name": "stdout",
     "output_type": "stream",
     "text": [
      "<xarray.DataArray 'histogram_observations_forecasts' (time: 3)>\n",
      "array([0.9       , 1.45454545, 0.61538462])\n",
      "Coordinates:\n",
      "  * time     (time) object 2000-01-01 00:00:00 ... 2000-01-03 00:00:00\n"
     ]
    }
   ],
   "source": [
    "print(dichotomous_contingency.bias_score())"
   ]
  },
  {
   "cell_type": "code",
   "execution_count": 26,
   "metadata": {},
   "outputs": [
    {
     "name": "stdout",
     "output_type": "stream",
     "text": [
      "<xarray.DataArray 'histogram_observations_forecasts' (time: 3)>\n",
      "array([0.6       , 0.81818182, 0.38461538])\n",
      "Coordinates:\n",
      "  * time     (time) object 2000-01-01 00:00:00 ... 2000-01-03 00:00:00\n"
     ]
    }
   ],
   "source": [
    "print(dichotomous_contingency.hit_rate())"
   ]
  },
  {
   "cell_type": "code",
   "execution_count": 27,
   "metadata": {},
   "outputs": [
    {
     "name": "stdout",
     "output_type": "stream",
     "text": [
      "<xarray.DataArray 'histogram_observations_forecasts' (time: 3)>\n",
      "array([0.3       , 0.77777778, 0.42857143])\n",
      "Coordinates:\n",
      "  * time     (time) object 2000-01-01 00:00:00 ... 2000-01-03 00:00:00\n"
     ]
    }
   ],
   "source": [
    "print(dichotomous_contingency.false_alarm_rate())"
   ]
  },
  {
   "cell_type": "code",
   "execution_count": 28,
   "metadata": {},
   "outputs": [
    {
     "name": "stdout",
     "output_type": "stream",
     "text": [
      "<xarray.DataArray 'histogram_observations_forecasts' (time: 3)>\n",
      "array([ 0.55555556,  0.125     , -0.09090909])\n",
      "Coordinates:\n",
      "  * time     (time) object 2000-01-01 00:00:00 ... 2000-01-03 00:00:00\n"
     ]
    }
   ],
   "source": [
    "print(dichotomous_contingency.odds_ratio_skill_score())"
   ]
  },
  {
   "cell_type": "markdown",
   "metadata": {},
   "source": [
    "Now we can leverage multi-category edges to make use of some scores."
   ]
  },
  {
   "cell_type": "code",
   "execution_count": 29,
   "metadata": {},
   "outputs": [],
   "source": [
    "multi_category_edges = np.array([0, 0.25, 0.75, 1])\n",
    "multicategory_contingency = xs.Contingency(obs, fct,\n",
    "                                           multi_category_edges,\n",
    "                                           multi_category_edges,\n",
    "                                           dim=['lat','lon'])"
   ]
  },
  {
   "cell_type": "code",
   "execution_count": 30,
   "metadata": {},
   "outputs": [
    {
     "name": "stdout",
     "output_type": "stream",
     "text": [
      "<xarray.DataArray 'histogram_observations_forecasts' (time: 3)>\n",
      "array([0.35, 0.55, 0.25])\n",
      "Coordinates:\n",
      "  * time     (time) object 2000-01-01 00:00:00 ... 2000-01-03 00:00:00\n"
     ]
    }
   ],
   "source": [
    "print(multicategory_contingency.accuracy())"
   ]
  },
  {
   "cell_type": "code",
   "execution_count": 31,
   "metadata": {},
   "outputs": [
    {
     "name": "stdout",
     "output_type": "stream",
     "text": [
      "<xarray.DataArray 'histogram_observations_forecasts' (time: 3)>\n",
      "array([-0.02362205,  0.24369748, -0.06382979])\n",
      "Coordinates:\n",
      "  * time     (time) object 2000-01-01 00:00:00 ... 2000-01-03 00:00:00\n"
     ]
    }
   ],
   "source": [
    "print(multicategory_contingency.heidke_score())"
   ]
  },
  {
   "cell_type": "code",
   "execution_count": 32,
   "metadata": {},
   "outputs": [
    {
     "name": "stdout",
     "output_type": "stream",
     "text": [
      "<xarray.DataArray 'histogram_observations_forecasts' (time: 3)>\n",
      "array([-0.02362205,  0.22834646, -0.06976744])\n",
      "Coordinates:\n",
      "  * time     (time) object 2000-01-01 00:00:00 ... 2000-01-03 00:00:00\n"
     ]
    }
   ],
   "source": [
    "print(multicategory_contingency.peirce_score())"
   ]
  },
  {
   "cell_type": "code",
   "execution_count": 33,
   "metadata": {},
   "outputs": [
    {
     "name": "stdout",
     "output_type": "stream",
     "text": [
      "<xarray.DataArray 'histogram_observations_forecasts' (time: 3)>\n",
      "array([-0.06456044,  0.09340659, -0.07878788])\n",
      "Coordinates:\n",
      "  * time     (time) object 2000-01-01 00:00:00 ... 2000-01-03 00:00:00\n"
     ]
    }
   ],
   "source": [
    "print(multicategory_contingency.gerrity_score())"
   ]
  },
  {
   "cell_type": "markdown",
   "metadata": {},
   "source": [
    "## Accessors\n",
    "\n",
    "You can also use `xskillscore` as a method of your `xarray` Dataset."
   ]
  },
  {
   "cell_type": "code",
   "execution_count": 34,
   "metadata": {},
   "outputs": [],
   "source": [
    "ds = xr.Dataset()\n",
    "ds[\"obs_var\"] = obs\n",
    "ds[\"fct_var\"] = fct"
   ]
  },
  {
   "cell_type": "markdown",
   "metadata": {},
   "source": [
    "In the case that your Dataset contains both your observation and forecast variable, just pass them as strings into the function."
   ]
  },
  {
   "cell_type": "code",
   "execution_count": 35,
   "metadata": {},
   "outputs": [
    {
     "name": "stdout",
     "output_type": "stream",
     "text": [
      "<xarray.DataArray (lat: 4, lon: 5)>\n",
      "array([[-0.67103963, -0.7994918 , -0.4877047 ,  0.9009042 , -0.99576019],\n",
      "       [ 0.01011846, -0.98098359,  0.99660269,  0.98889716,  0.16882124],\n",
      "       [ 0.53017399, -0.27949033, -0.39054563, -0.62662994, -0.08972376],\n",
      "       [-0.99835429,  0.44805023,  0.36821353,  0.99698985,  0.99991305]])\n",
      "Coordinates:\n",
      "  * lat      (lat) int64 0 1 2 3\n",
      "  * lon      (lon) int64 0 1 2 3 4\n"
     ]
    }
   ],
   "source": [
    "print(ds.xs.pearson_r(\"obs_var\", \"fct_var\", \"time\"))"
   ]
  },
  {
   "cell_type": "markdown",
   "metadata": {},
   "source": [
    "You can also pass in a separate Dataset that contains your observations or forecast variable."
   ]
  },
  {
   "cell_type": "code",
   "execution_count": 36,
   "metadata": {},
   "outputs": [
    {
     "name": "stdout",
     "output_type": "stream",
     "text": [
      "<xarray.DataArray (lat: 4, lon: 5)>\n",
      "array([[-0.67103963, -0.7994918 , -0.4877047 ,  0.9009042 , -0.99576019],\n",
      "       [ 0.01011846, -0.98098359,  0.99660269,  0.98889716,  0.16882124],\n",
      "       [ 0.53017399, -0.27949033, -0.39054563, -0.62662994, -0.08972376],\n",
      "       [-0.99835429,  0.44805023,  0.36821353,  0.99698985,  0.99991305]])\n",
      "Coordinates:\n",
      "  * lat      (lat) int64 0 1 2 3\n",
      "  * lon      (lon) int64 0 1 2 3 4\n"
     ]
    }
   ],
   "source": [
    "ds = ds.drop_vars(\"fct_var\")\n",
    "print(ds.xs.pearson_r(\"obs_var\", fct, \"time\"))"
   ]
  }
 ],
 "metadata": {
  "kernelspec": {
   "display_name": "Python 3",
   "language": "python",
   "name": "python3"
  },
  "language_info": {
   "codemirror_mode": {
    "name": "ipython",
    "version": 3
   },
   "file_extension": ".py",
   "mimetype": "text/x-python",
   "name": "python",
   "nbconvert_exporter": "python",
   "pygments_lexer": "ipython3",
   "version": "3.7.6"
  }
 },
 "nbformat": 4,
 "nbformat_minor": 4
}
